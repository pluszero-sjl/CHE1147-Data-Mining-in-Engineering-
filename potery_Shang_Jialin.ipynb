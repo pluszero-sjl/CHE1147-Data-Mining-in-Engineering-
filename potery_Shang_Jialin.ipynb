{
 "cells": [
  {
   "cell_type": "markdown",
   "id": "31fca67a",
   "metadata": {},
   "source": [
    "# CHE1147 Data Mining in Engineering\n",
    "### Assignment 4 Jialin Shang 1005086256\n",
    "## 1. Chemical composition of pottery\n",
    "### 1.1 Data exploration with PCA\n",
    "1. Import and view the data. How many columns do you have? Which columns will you use in your PCA?"
   ]
  },
  {
   "cell_type": "code",
   "execution_count": 1,
   "id": "d7f823e7",
   "metadata": {},
   "outputs": [],
   "source": [
    "# Import libraries\n",
    "import numpy as np\n",
    "import pandas as pd\n",
    "import scipy\n",
    "import matplotlib.pyplot as plt\n",
    "import seaborn as sns\n",
    "from sklearn.cluster import KMeans, DBSCAN\n",
    "from sklearn.decomposition import PCA\n",
    "from sklearn.preprocessing import MaxAbsScaler, StandardScaler "
   ]
  },
  {
   "cell_type": "code",
   "execution_count": 2,
   "id": "4965c702",
   "metadata": {},
   "outputs": [
    {
     "data": {
      "text/html": [
       "<div>\n",
       "<style scoped>\n",
       "    .dataframe tbody tr th:only-of-type {\n",
       "        vertical-align: middle;\n",
       "    }\n",
       "\n",
       "    .dataframe tbody tr th {\n",
       "        vertical-align: top;\n",
       "    }\n",
       "\n",
       "    .dataframe thead th {\n",
       "        text-align: right;\n",
       "    }\n",
       "</style>\n",
       "<table border=\"1\" class=\"dataframe\">\n",
       "  <thead>\n",
       "    <tr style=\"text-align: right;\">\n",
       "      <th></th>\n",
       "      <th>Unnamed: 0</th>\n",
       "      <th>Site</th>\n",
       "      <th>Al</th>\n",
       "      <th>Fe</th>\n",
       "      <th>Mg</th>\n",
       "      <th>Ca</th>\n",
       "      <th>Na</th>\n",
       "    </tr>\n",
       "  </thead>\n",
       "  <tbody>\n",
       "    <tr>\n",
       "      <th>0</th>\n",
       "      <td>1</td>\n",
       "      <td>Llanedyrn</td>\n",
       "      <td>14.4</td>\n",
       "      <td>7.00</td>\n",
       "      <td>4.30</td>\n",
       "      <td>0.15</td>\n",
       "      <td>0.51</td>\n",
       "    </tr>\n",
       "    <tr>\n",
       "      <th>1</th>\n",
       "      <td>2</td>\n",
       "      <td>Llanedyrn</td>\n",
       "      <td>13.8</td>\n",
       "      <td>7.08</td>\n",
       "      <td>3.43</td>\n",
       "      <td>0.12</td>\n",
       "      <td>0.17</td>\n",
       "    </tr>\n",
       "    <tr>\n",
       "      <th>2</th>\n",
       "      <td>3</td>\n",
       "      <td>Llanedyrn</td>\n",
       "      <td>14.6</td>\n",
       "      <td>7.09</td>\n",
       "      <td>3.88</td>\n",
       "      <td>0.13</td>\n",
       "      <td>0.20</td>\n",
       "    </tr>\n",
       "    <tr>\n",
       "      <th>3</th>\n",
       "      <td>4</td>\n",
       "      <td>Llanedyrn</td>\n",
       "      <td>11.5</td>\n",
       "      <td>6.37</td>\n",
       "      <td>5.64</td>\n",
       "      <td>0.16</td>\n",
       "      <td>0.14</td>\n",
       "    </tr>\n",
       "    <tr>\n",
       "      <th>4</th>\n",
       "      <td>5</td>\n",
       "      <td>Llanedyrn</td>\n",
       "      <td>13.8</td>\n",
       "      <td>7.06</td>\n",
       "      <td>5.34</td>\n",
       "      <td>0.20</td>\n",
       "      <td>0.20</td>\n",
       "    </tr>\n",
       "  </tbody>\n",
       "</table>\n",
       "</div>"
      ],
      "text/plain": [
       "   Unnamed: 0       Site    Al    Fe    Mg    Ca    Na\n",
       "0           1  Llanedyrn  14.4  7.00  4.30  0.15  0.51\n",
       "1           2  Llanedyrn  13.8  7.08  3.43  0.12  0.17\n",
       "2           3  Llanedyrn  14.6  7.09  3.88  0.13  0.20\n",
       "3           4  Llanedyrn  11.5  6.37  5.64  0.16  0.14\n",
       "4           5  Llanedyrn  13.8  7.06  5.34  0.20  0.20"
      ]
     },
     "execution_count": 2,
     "metadata": {},
     "output_type": "execute_result"
    }
   ],
   "source": [
    "# Import datasets\n",
    "p = pd.read_csv(\"Pottery.csv\")\n",
    "p.head()"
   ]
  },
  {
   "cell_type": "code",
   "execution_count": 3,
   "id": "6f0936bb",
   "metadata": {},
   "outputs": [
    {
     "name": "stdout",
     "output_type": "stream",
     "text": [
      "The number of columns in the dataset is: 7\n",
      "For PCA, we will use the columns: AI, Fe, Mg, Ca, Na\n"
     ]
    }
   ],
   "source": [
    "# Find the number of columns of the dataset and the columns for PCA\n",
    "print('The number of columns in the dataset is:', p.shape[1])\n",
    "print('For PCA, we will use the columns: AI, Fe, Mg, Ca, Na')"
   ]
  },
  {
   "cell_type": "markdown",
   "id": "b5f8c72a",
   "metadata": {},
   "source": [
    "2. Pre-process the data and perform PCA with 3 PCs."
   ]
  },
  {
   "cell_type": "code",
   "execution_count": 4,
   "id": "0cce1c9f",
   "metadata": {},
   "outputs": [],
   "source": [
    "# Drop the unselected column\n",
    "pot = p.drop(['Unnamed: 0', 'Site'], axis = 1)\n",
    "\n",
    "# Scale the data\n",
    "scaler = StandardScaler()\n",
    "scaled_pot = scaler.fit_transform(pot)\n",
    "\n",
    "# Perform PCA with 3 PCs\n",
    "pca = PCA(n_components = 3, svd_solver = 'full')\n",
    "pca_scores = pca.fit_transform(scaled_pot)"
   ]
  },
  {
   "cell_type": "code",
   "execution_count": 5,
   "id": "b2042db4",
   "metadata": {},
   "outputs": [
    {
     "data": {
      "text/html": [
       "<div>\n",
       "<style scoped>\n",
       "    .dataframe tbody tr th:only-of-type {\n",
       "        vertical-align: middle;\n",
       "    }\n",
       "\n",
       "    .dataframe tbody tr th {\n",
       "        vertical-align: top;\n",
       "    }\n",
       "\n",
       "    .dataframe thead th {\n",
       "        text-align: right;\n",
       "    }\n",
       "</style>\n",
       "<table border=\"1\" class=\"dataframe\">\n",
       "  <thead>\n",
       "    <tr style=\"text-align: right;\">\n",
       "      <th></th>\n",
       "      <th>PC1</th>\n",
       "      <th>PC2</th>\n",
       "      <th>PC3</th>\n",
       "    </tr>\n",
       "  </thead>\n",
       "  <tbody>\n",
       "    <tr>\n",
       "      <th>0</th>\n",
       "      <td>-1.778026</td>\n",
       "      <td>2.289445</td>\n",
       "      <td>-0.075289</td>\n",
       "    </tr>\n",
       "    <tr>\n",
       "      <th>1</th>\n",
       "      <td>-0.611193</td>\n",
       "      <td>0.122065</td>\n",
       "      <td>-0.499044</td>\n",
       "    </tr>\n",
       "    <tr>\n",
       "      <th>2</th>\n",
       "      <td>-0.722428</td>\n",
       "      <td>0.370209</td>\n",
       "      <td>-0.207550</td>\n",
       "    </tr>\n",
       "    <tr>\n",
       "      <th>3</th>\n",
       "      <td>-1.417696</td>\n",
       "      <td>-0.555600</td>\n",
       "      <td>-0.557590</td>\n",
       "    </tr>\n",
       "    <tr>\n",
       "      <th>4</th>\n",
       "      <td>-1.486801</td>\n",
       "      <td>-0.004081</td>\n",
       "      <td>0.195248</td>\n",
       "    </tr>\n",
       "    <tr>\n",
       "      <th>5</th>\n",
       "      <td>-1.259044</td>\n",
       "      <td>-0.092347</td>\n",
       "      <td>-0.783259</td>\n",
       "    </tr>\n",
       "    <tr>\n",
       "      <th>6</th>\n",
       "      <td>-1.180703</td>\n",
       "      <td>-0.607921</td>\n",
       "      <td>-0.575010</td>\n",
       "    </tr>\n",
       "    <tr>\n",
       "      <th>7</th>\n",
       "      <td>-1.490385</td>\n",
       "      <td>-0.498745</td>\n",
       "      <td>-0.336582</td>\n",
       "    </tr>\n",
       "    <tr>\n",
       "      <th>8</th>\n",
       "      <td>-2.076010</td>\n",
       "      <td>0.000500</td>\n",
       "      <td>0.220714</td>\n",
       "    </tr>\n",
       "    <tr>\n",
       "      <th>9</th>\n",
       "      <td>-2.311320</td>\n",
       "      <td>-0.376341</td>\n",
       "      <td>0.800851</td>\n",
       "    </tr>\n",
       "    <tr>\n",
       "      <th>10</th>\n",
       "      <td>-2.621615</td>\n",
       "      <td>1.952241</td>\n",
       "      <td>0.094513</td>\n",
       "    </tr>\n",
       "    <tr>\n",
       "      <th>11</th>\n",
       "      <td>-2.155016</td>\n",
       "      <td>-0.220571</td>\n",
       "      <td>0.828020</td>\n",
       "    </tr>\n",
       "    <tr>\n",
       "      <th>12</th>\n",
       "      <td>-1.431624</td>\n",
       "      <td>0.007079</td>\n",
       "      <td>-0.106344</td>\n",
       "    </tr>\n",
       "    <tr>\n",
       "      <th>13</th>\n",
       "      <td>-1.413437</td>\n",
       "      <td>-0.013782</td>\n",
       "      <td>-0.037041</td>\n",
       "    </tr>\n",
       "    <tr>\n",
       "      <th>14</th>\n",
       "      <td>-1.153767</td>\n",
       "      <td>-1.634243</td>\n",
       "      <td>0.411643</td>\n",
       "    </tr>\n",
       "    <tr>\n",
       "      <th>15</th>\n",
       "      <td>-1.145386</td>\n",
       "      <td>-1.490205</td>\n",
       "      <td>0.286453</td>\n",
       "    </tr>\n",
       "    <tr>\n",
       "      <th>16</th>\n",
       "      <td>2.668073</td>\n",
       "      <td>0.029649</td>\n",
       "      <td>0.126326</td>\n",
       "    </tr>\n",
       "    <tr>\n",
       "      <th>17</th>\n",
       "      <td>2.135919</td>\n",
       "      <td>-0.119176</td>\n",
       "      <td>-0.680174</td>\n",
       "    </tr>\n",
       "    <tr>\n",
       "      <th>18</th>\n",
       "      <td>2.585526</td>\n",
       "      <td>0.262264</td>\n",
       "      <td>-0.096612</td>\n",
       "    </tr>\n",
       "    <tr>\n",
       "      <th>19</th>\n",
       "      <td>2.561672</td>\n",
       "      <td>0.138060</td>\n",
       "      <td>-0.121480</td>\n",
       "    </tr>\n",
       "    <tr>\n",
       "      <th>20</th>\n",
       "      <td>2.615076</td>\n",
       "      <td>0.654624</td>\n",
       "      <td>0.983277</td>\n",
       "    </tr>\n",
       "    <tr>\n",
       "      <th>21</th>\n",
       "      <td>2.415728</td>\n",
       "      <td>0.048399</td>\n",
       "      <td>0.193736</td>\n",
       "    </tr>\n",
       "    <tr>\n",
       "      <th>22</th>\n",
       "      <td>2.505373</td>\n",
       "      <td>0.053793</td>\n",
       "      <td>0.342508</td>\n",
       "    </tr>\n",
       "    <tr>\n",
       "      <th>23</th>\n",
       "      <td>2.565084</td>\n",
       "      <td>0.032170</td>\n",
       "      <td>-0.376411</td>\n",
       "    </tr>\n",
       "    <tr>\n",
       "      <th>24</th>\n",
       "      <td>1.786069</td>\n",
       "      <td>-0.239541</td>\n",
       "      <td>-0.799486</td>\n",
       "    </tr>\n",
       "    <tr>\n",
       "      <th>25</th>\n",
       "      <td>2.415928</td>\n",
       "      <td>-0.107947</td>\n",
       "      <td>0.768582</td>\n",
       "    </tr>\n",
       "  </tbody>\n",
       "</table>\n",
       "</div>"
      ],
      "text/plain": [
       "         PC1       PC2       PC3\n",
       "0  -1.778026  2.289445 -0.075289\n",
       "1  -0.611193  0.122065 -0.499044\n",
       "2  -0.722428  0.370209 -0.207550\n",
       "3  -1.417696 -0.555600 -0.557590\n",
       "4  -1.486801 -0.004081  0.195248\n",
       "5  -1.259044 -0.092347 -0.783259\n",
       "6  -1.180703 -0.607921 -0.575010\n",
       "7  -1.490385 -0.498745 -0.336582\n",
       "8  -2.076010  0.000500  0.220714\n",
       "9  -2.311320 -0.376341  0.800851\n",
       "10 -2.621615  1.952241  0.094513\n",
       "11 -2.155016 -0.220571  0.828020\n",
       "12 -1.431624  0.007079 -0.106344\n",
       "13 -1.413437 -0.013782 -0.037041\n",
       "14 -1.153767 -1.634243  0.411643\n",
       "15 -1.145386 -1.490205  0.286453\n",
       "16  2.668073  0.029649  0.126326\n",
       "17  2.135919 -0.119176 -0.680174\n",
       "18  2.585526  0.262264 -0.096612\n",
       "19  2.561672  0.138060 -0.121480\n",
       "20  2.615076  0.654624  0.983277\n",
       "21  2.415728  0.048399  0.193736\n",
       "22  2.505373  0.053793  0.342508\n",
       "23  2.565084  0.032170 -0.376411\n",
       "24  1.786069 -0.239541 -0.799486\n",
       "25  2.415928 -0.107947  0.768582"
      ]
     },
     "execution_count": 5,
     "metadata": {},
     "output_type": "execute_result"
    }
   ],
   "source": [
    "scores_pot = pd.DataFrame(data = pca_scores, columns = ['PC1', 'PC2', 'PC3'], index = pot.index)\n",
    "scores_pot"
   ]
  },
  {
   "cell_type": "code",
   "execution_count": 6,
   "id": "a7e8409b",
   "metadata": {},
   "outputs": [
    {
     "data": {
      "text/html": [
       "<div>\n",
       "<style scoped>\n",
       "    .dataframe tbody tr th:only-of-type {\n",
       "        vertical-align: middle;\n",
       "    }\n",
       "\n",
       "    .dataframe tbody tr th {\n",
       "        vertical-align: top;\n",
       "    }\n",
       "\n",
       "    .dataframe thead th {\n",
       "        text-align: right;\n",
       "    }\n",
       "</style>\n",
       "<table border=\"1\" class=\"dataframe\">\n",
       "  <thead>\n",
       "    <tr style=\"text-align: right;\">\n",
       "      <th></th>\n",
       "      <th>PC1</th>\n",
       "      <th>PC2</th>\n",
       "      <th>PC3</th>\n",
       "    </tr>\n",
       "  </thead>\n",
       "  <tbody>\n",
       "    <tr>\n",
       "      <th>Al</th>\n",
       "      <td>0.445434</td>\n",
       "      <td>0.356524</td>\n",
       "      <td>0.694985</td>\n",
       "    </tr>\n",
       "    <tr>\n",
       "      <th>Fe</th>\n",
       "      <td>-0.478132</td>\n",
       "      <td>0.041175</td>\n",
       "      <td>-0.157338</td>\n",
       "    </tr>\n",
       "    <tr>\n",
       "      <th>Mg</th>\n",
       "      <td>-0.486541</td>\n",
       "      <td>-0.049607</td>\n",
       "      <td>0.158560</td>\n",
       "    </tr>\n",
       "    <tr>\n",
       "      <th>Ca</th>\n",
       "      <td>-0.449054</td>\n",
       "      <td>-0.344146</td>\n",
       "      <td>0.683443</td>\n",
       "    </tr>\n",
       "    <tr>\n",
       "      <th>Na</th>\n",
       "      <td>-0.366888</td>\n",
       "      <td>0.866197</td>\n",
       "      <td>0.002043</td>\n",
       "    </tr>\n",
       "  </tbody>\n",
       "</table>\n",
       "</div>"
      ],
      "text/plain": [
       "         PC1       PC2       PC3\n",
       "Al  0.445434  0.356524  0.694985\n",
       "Fe -0.478132  0.041175 -0.157338\n",
       "Mg -0.486541 -0.049607  0.158560\n",
       "Ca -0.449054 -0.344146  0.683443\n",
       "Na -0.366888  0.866197  0.002043"
      ]
     },
     "execution_count": 6,
     "metadata": {},
     "output_type": "execute_result"
    }
   ],
   "source": [
    "loadings_pot = pd.DataFrame(data = pca.components_.T, columns = ['PC1', 'PC2', 'PC3'], index = pot.columns)\n",
    "loadings_pot"
   ]
  },
  {
   "cell_type": "markdown",
   "id": "fcd1481a",
   "metadata": {},
   "source": [
    "3. Plot the cumulative explained variance graph. What percent of the variance do the first 2 and 3 components describe?"
   ]
  },
  {
   "cell_type": "code",
   "execution_count": 7,
   "id": "571a6606",
   "metadata": {},
   "outputs": [
    {
     "data": {
      "text/plain": [
       "(0.0, 1.0)"
      ]
     },
     "execution_count": 7,
     "metadata": {},
     "output_type": "execute_result"
    },
    {
     "data": {
      "image/png": "[encoded data removed]",
      "text/plain": [
       "<Figure size 432x288 with 1 Axes>"
      ]
     },
     "metadata": {
      "needs_background": "light"
     },
     "output_type": "display_data"
    }
   ],
   "source": [
    "# Plot the cumulative explained variance graph\n",
    "plt.plot(range(1, pca.n_components + 1), np.cumsum(pca.explained_variance_ratio_), '-o')\n",
    "plt.title('Cumulative Explained Variance', fontsize = 15)\n",
    "plt.xlabel('Number Of Components', fontsize = 13)\n",
    "plt.ylabel('Cumulative Explained Variance', fontsize = 13)\n",
    "plt.tick_params(labelsize = 10)\n",
    "plt.ylim(0,1)"
   ]
  },
  {
   "cell_type": "code",
   "execution_count": 8,
   "id": "a6130ac9",
   "metadata": {},
   "outputs": [
    {
     "name": "stdout",
     "output_type": "stream",
     "text": [
      "The first 2 components describe percent of the variance is: 89.73213663789889 %\n",
      "The first 3 components describe percent of the variance is: 94.61598027980747 %\n"
     ]
    }
   ],
   "source": [
    "# Find the percent of the variance do the first 2 and 3 components describe\n",
    "print('The first 2 components describe percent of the variance is:', (np.cumsum(pca.explained_variance_ratio_)[1]) * 100, '%')\n",
    "print('The first 3 components describe percent of the variance is:', (np.cumsum(pca.explained_variance_ratio_)[2]) * 100, '%')"
   ]
  },
  {
   "cell_type": "markdown",
   "id": "dfe0a682",
   "metadata": {},
   "source": [
    "4. Plot the scores-loadings graph for PC1-PC2. Visualize the different sites with a differ-\n",
    "ent colour or symbol."
   ]
  },
  {
   "cell_type": "code",
   "execution_count": 13,
   "id": "317308ce",
   "metadata": {},
   "outputs": [],
   "source": [
    "def myplot(scores,loadings, loading_labels = None, score_labels = None):\n",
    "    # adjusting the scores to fit in (-1,1)\n",
    "    # first and second PC score\n",
    "    xt = scores[:, 0]\n",
    "    yt = scores[:, 1]\n",
    "    # number of features\n",
    "    n = loadings.shape[0]\n",
    "    scalext = 1.0/(xt.max() - xt.min())\n",
    "    scaleyt = 1.0/(yt.max() - yt.min())\n",
    "    xt_scaled = xt * scalext\n",
    "    yt_scaled = yt * scaleyt\n",
    "    # adjusting the loadings to fit in (-1,1)\n",
    "    p = loadings\n",
    "    p_scaled = MaxAbsScaler().fit_transform(p)\n",
    "    \n",
    "    if score_labels is None:\n",
    "        plt.scatter(scores[:,0],scores[:,1])\n",
    "    else:\n",
    "        for (x,y), label in zip(np.vstack((xt_scaled, yt_scaled)).T,score_labels):\n",
    "            plt.text(x, y, label,ha = 'center', size = 14)\n",
    "    \n",
    "    for n in range(n):\n",
    "        plt.arrow(0, 0, p_scaled[n,0], p_scaled[n,1], color = 'r',alpha = 0.5)\n",
    "        if loading_labels is None:\n",
    "            plt.text(p_scaled[n,0], p_scaled[n,1], \"Var\"+str(n+1), color = 'g', ha = 'center', va = 'center')\n",
    "        else:\n",
    "            plt.text(p_scaled[n,0], p_scaled[n,1], loading_labels[n], color = 'r', ha = 'center', va = 'center', size = 14)\n",
    "    plt.xlim(-1,1)\n",
    "    plt.ylim(-1,1)\n",
    "    plt.xlabel(\"PC{}\".format(1), fontsize = 18);\n",
    "    plt.ylabel(\"PC{}\".format(2), fontsize = 18);\n",
    "    plt.tick_params(labelsize = 14)\n",
    "    plt.grid()"
   ]
  },
  {
   "cell_type": "code",
   "execution_count": 14,
   "id": "4cb6b311",
   "metadata": {},
   "outputs": [
    {
     "data": {
      "image/png": "[encoded data removed]",
      "text/plain": [
       "<Figure size 864x576 with 1 Axes>"
      ]
     },
     "metadata": {
      "needs_background": "light"
     },
     "output_type": "display_data"
    }
   ],
   "source": [
    "plt.rcParams[\"figure.figsize\"] = [12, 8]\n",
    "myplot(pca_scores[:,:2],loadings_pot.iloc[:, :2],loading_labels = loadings_pot.index, score_labels = scores_pot.index)"
   ]
  },
  {
   "cell_type": "markdown",
   "id": "9b815ce9",
   "metadata": {},
   "source": [
    "5. How does the map of scores-loadings explains the reason that your company uses the\n",
    "raw material from Isle Thorns and Ashley Rails to manufacture Product B?"
   ]
  },
  {
   "cell_type": "markdown",
   "id": "51aadd69",
   "metadata": {},
   "source": [
    "From the map above, we can clearly see that the samples for Isle Thorns and Ashley Rails are very close to each other, indicating that they have similar components and are in the right clusters. Since they both have Al, which is the raw materials of producing product B, they are used by the company to manufacture product B. "
   ]
  },
  {
   "cell_type": "markdown",
   "id": "1b180e86",
   "metadata": {},
   "source": [
    "6. Is the raw material from Caldicot a good replacement for Llanedyrn? Yes or no and\n",
    "why?"
   ]
  },
  {
   "cell_type": "markdown",
   "id": "677aa005",
   "metadata": {},
   "source": [
    "No, the Calcicot’s raw material is not a good replacement for Llanedyrn. Even though the points of samples for both types are quite close to each other, the distance between Calcicot and Na, Fe, Mg, Ca is quite further than the distance between Llanedyrn and Na, Fe, Mg, Ca. This indicate that Calcicot’s raw material might not be qualified for producing Llanedyrn. "
   ]
  },
  {
   "cell_type": "markdown",
   "id": "eff24873",
   "metadata": {},
   "source": [
    "7. What are the biggest differences in the two big clusters? How are the two samples from the candidate Caldicot different than the Llanedyrn samples?"
   ]
  },
  {
   "cell_type": "markdown",
   "id": "8e591f6b",
   "metadata": {},
   "source": [
    "The biggest difference between the two big clusters is the concentration level of the component elements. The right cluster mainly contains high-concentration AI and low-concentration Ca, Mg, Fe, and Na. While the left cluster mainly contains high-concentration Ca, Mg, Fe, Na, and low-concentration AI. The Ca from Caldicot is lower than the average level making it differ from Llanedyrn. "
   ]
  },
  {
   "cell_type": "markdown",
   "id": "b3ef1bc6",
   "metadata": {},
   "source": [
    "8. Confirm the answers by producing the boxplot of the 5 variables grouped by the site of the raw material shown below."
   ]
  },
  {
   "cell_type": "code",
   "execution_count": 19,
   "id": "ad72b55b",
   "metadata": {},
   "outputs": [
    {
     "data": {
      "image/png": "[encoded data removed]",
      "text/plain": [
       "<Figure size 1296x1008 with 6 Axes>"
      ]
     },
     "metadata": {
      "needs_background": "light"
     },
     "output_type": "display_data"
    }
   ],
   "source": [
    "group = ['Al', 'Fe', 'Mg', 'Ca', 'Na']\n",
    "fig, axes = plt.subplots(nrows = 2, ncols = 3, figsize = (18, 14))\n",
    "for g in range(len(group)):\n",
    "    if g >= 3:\n",
    "        p[['Site', group[g]]].boxplot(by = 'Site', ax = axes[1, g - 3])\n",
    "    else:\n",
    "        p[['Site', group[g]]].boxplot(by = 'Site', ax = axes[0, g])"
   ]
  }
 ],
 "metadata": {
  "kernelspec": {
   "display_name": "Python 3 (ipykernel)",
   "language": "python",
   "name": "python3"
  },
  "language_info": {
   "codemirror_mode": {
    "name": "ipython",
    "version": 3
   },
   "file_extension": ".py",
   "mimetype": "text/x-python",
   "name": "python",
   "nbconvert_exporter": "python",
   "pygments_lexer": "ipython3",
   "version": "3.9.12"
  }
 },
 "nbformat": 4,
 "nbformat_minor": 5
}
