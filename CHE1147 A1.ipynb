{
 "cells": [
  {
   "cell_type": "markdown",
   "id": "470eff59",
   "metadata": {},
   "source": [
    "# CHE1147 Data Mining in Engineering\n",
    "### Assignment 1 Jialin Shang 1005086256\n",
    "## 1 Python data structures and other essentials\n",
    "### 1.1 Tuples\n",
    "1. Create the tuple named apps_tuple with the string elements ”Google”, ”Facebook”,”Amazon”, ”Netflix”, ”AirBnB”, ”Instagram”"
   ]
  },
  {
   "cell_type": "code",
   "execution_count": 1,
   "id": "46b78ae3",
   "metadata": {},
   "outputs": [],
   "source": [
    "apps_tuple = (\"Google\", \"Facebook\", \"Amazon\", \"Netflix\", \"AirBnB\", \"Instagram\")"
   ]
  },
  {
   "cell_type": "markdown",
   "id": "493b9d1b",
   "metadata": {},
   "source": [
    "2. Extract the second element by using its index and the last element by using its negative index"
   ]
  },
  {
   "cell_type": "code",
   "execution_count": 2,
   "id": "7ee3b0b2",
   "metadata": {},
   "outputs": [
    {
     "data": {
      "text/plain": [
       "'Facebook'"
      ]
     },
     "execution_count": 2,
     "metadata": {},
     "output_type": "execute_result"
    }
   ],
   "source": [
    "# Second element\n",
    "sec_ele = apps_tuple[1]\n",
    "sec_ele"
   ]
  },
  {
   "cell_type": "code",
   "execution_count": 3,
   "id": "a1199f96",
   "metadata": {},
   "outputs": [
    {
     "data": {
      "text/plain": [
       "'Instagram'"
      ]
     },
     "execution_count": 3,
     "metadata": {},
     "output_type": "execute_result"
    }
   ],
   "source": [
    "# Last element\n",
    "last_ele = apps_tuple[-1] \n",
    "last_ele"
   ]
  },
  {
   "cell_type": "markdown",
   "id": "5f6764fe",
   "metadata": {},
   "source": [
    "3. Slice the elements from ”Facebook” to ”Netflix” inclusive on both ends"
   ]
  },
  {
   "cell_type": "code",
   "execution_count": 4,
   "id": "50028bc2",
   "metadata": {},
   "outputs": [
    {
     "data": {
      "text/plain": [
       "('Facebook', 'Amazon', 'Netflix')"
      ]
     },
     "execution_count": 4,
     "metadata": {},
     "output_type": "execute_result"
    }
   ],
   "source": [
    "apps_tuple[1:4]"
   ]
  },
  {
   "cell_type": "markdown",
   "id": "557ff7c5",
   "metadata": {},
   "source": [
    "4. Try appending the element ”Messenger” to the tuple. What do you observe? Why?"
   ]
  },
  {
   "cell_type": "code",
   "execution_count": 5,
   "id": "becd0b0e",
   "metadata": {},
   "outputs": [
    {
     "ename": "AttributeError",
     "evalue": "'tuple' object has no attribute 'append'",
     "output_type": "error",
     "traceback": [
      "\u001b[0;31m---------------------------------------------------------------------------\u001b[0m",
      "\u001b[0;31mAttributeError\u001b[0m                            Traceback (most recent call last)",
      "Input \u001b[0;32mIn [5]\u001b[0m, in \u001b[0;36m<cell line: 1>\u001b[0;34m()\u001b[0m\n\u001b[0;32m----> 1\u001b[0m \u001b[43mapps_tuple\u001b[49m\u001b[38;5;241;43m.\u001b[39;49m\u001b[43mappend\u001b[49m(\u001b[38;5;124m'\u001b[39m\u001b[38;5;124mMessenger\u001b[39m\u001b[38;5;124m'\u001b[39m)\n",
      "\u001b[0;31mAttributeError\u001b[0m: 'tuple' object has no attribute 'append'"
     ]
    }
   ],
   "source": [
    "apps_tuple.append('Messenger')"
   ]
  },
  {
   "cell_type": "markdown",
   "id": "29525523",
   "metadata": {},
   "source": [
    "Observed \"Attribute Error\": 'tuple' object has no attribute 'append'\n",
    "\n",
    "Since tuple is immutable, it cannot be modified. Thus, append 'Messenger' will appear failure."
   ]
  },
  {
   "cell_type": "markdown",
   "id": "95979c0a",
   "metadata": {},
   "source": [
    "### 1.2 Lists\n",
    "1. Define the list apps_list with the same elements as the tuple above."
   ]
  },
  {
   "cell_type": "code",
   "execution_count": 6,
   "id": "e3ee25eb",
   "metadata": {},
   "outputs": [],
   "source": [
    "apps_list = ['Google','Facebook','Amazon','Netflix','AirBnB','Instagram']"
   ]
  },
  {
   "cell_type": "markdown",
   "id": "9d5040f3",
   "metadata": {},
   "source": [
    "2. Slice the first three elements of the list with the shorthand syntax, i.e. not by typing explicitly all the indexes 0, 1, and 2; use the symbol : instead"
   ]
  },
  {
   "cell_type": "code",
   "execution_count": 7,
   "id": "87c8a717",
   "metadata": {},
   "outputs": [
    {
     "data": {
      "text/plain": [
       "['Google', 'Facebook', 'Amazon']"
      ]
     },
     "execution_count": 7,
     "metadata": {},
     "output_type": "execute_result"
    }
   ],
   "source": [
    "apps_list[:3]"
   ]
  },
  {
   "cell_type": "markdown",
   "id": "062e6c52",
   "metadata": {},
   "source": [
    "3. Slice all the elements after index 3 inclusively with the shorthand syntax"
   ]
  },
  {
   "cell_type": "code",
   "execution_count": 8,
   "id": "9a62c39f",
   "metadata": {},
   "outputs": [
    {
     "data": {
      "text/plain": [
       "['Netflix', 'AirBnB', 'Instagram']"
      ]
     },
     "execution_count": 8,
     "metadata": {},
     "output_type": "execute_result"
    }
   ],
   "source": [
    "apps_list[3:]"
   ]
  },
  {
   "cell_type": "markdown",
   "id": "5c281f3c",
   "metadata": {},
   "source": [
    "4. Append the element ’Messenger’ to the end of the list and insert the element ’Youtube’ at index 1"
   ]
  },
  {
   "cell_type": "code",
   "execution_count": 9,
   "id": "ac8d088d",
   "metadata": {},
   "outputs": [
    {
     "name": "stdout",
     "output_type": "stream",
     "text": [
      "['Google', 'Youtube', 'Facebook', 'Amazon', 'Netflix', 'AirBnB', 'Instagram', 'Messenger']\n"
     ]
    }
   ],
   "source": [
    "apps_list.append('Messenger')\n",
    "apps_list.insert(1,'Youtube')\n",
    "print(apps_list)"
   ]
  },
  {
   "cell_type": "markdown",
   "id": "0fa9bbee",
   "metadata": {},
   "source": [
    "5. Remove element ’Facebook’ and confirm with the function in whether ’Facebook’ has been removed from the list"
   ]
  },
  {
   "cell_type": "code",
   "execution_count": 10,
   "id": "12088bcc",
   "metadata": {},
   "outputs": [
    {
     "data": {
      "text/plain": [
       "False"
      ]
     },
     "execution_count": 10,
     "metadata": {},
     "output_type": "execute_result"
    }
   ],
   "source": [
    "apps_list.remove('Facebook')\n",
    "'Facebook' in apps_list"
   ]
  },
  {
   "cell_type": "markdown",
   "id": "bc246f3d",
   "metadata": {},
   "source": [
    "6. Concatenate the last list with the list [’Linkedin’, ’Twitter’]."
   ]
  },
  {
   "cell_type": "code",
   "execution_count": 11,
   "id": "a66d24fa",
   "metadata": {},
   "outputs": [
    {
     "name": "stdout",
     "output_type": "stream",
     "text": [
      "['Google', 'Youtube', 'Amazon', 'Netflix', 'AirBnB', 'Instagram', 'Messenger', 'LinkedIn', 'Twitter']\n"
     ]
    }
   ],
   "source": [
    "add_on = ['LinkedIn', 'Twitter']\n",
    "print(apps_list + add_on)"
   ]
  },
  {
   "cell_type": "markdown",
   "id": "12ee99a1",
   "metadata": {},
   "source": [
    "### 1.3 Dics\n",
    "1. Create the dict named apps_dict with the same values as in 1.1.1. and keys: app0,app1, etc."
   ]
  },
  {
   "cell_type": "code",
   "execution_count": 12,
   "id": "4e67f750",
   "metadata": {},
   "outputs": [],
   "source": [
    "apps_dict = {'app0':'Google',\n",
    "            'app1':'Facebook',\n",
    "            'app2':'Amazon',\n",
    "            'app3':'Netflix',\n",
    "            'app4':'AirBnB',\n",
    "            'app5':'Instagram'}"
   ]
  },
  {
   "cell_type": "markdown",
   "id": "3e2bc296",
   "metadata": {},
   "source": [
    "2. Access the element with key app1; then replace its value with ’Youtube’."
   ]
  },
  {
   "cell_type": "code",
   "execution_count": 13,
   "id": "b0a40682",
   "metadata": {},
   "outputs": [
    {
     "data": {
      "text/plain": [
       "{'app0': 'Google',\n",
       " 'app1': 'Youtube',\n",
       " 'app2': 'Amazon',\n",
       " 'app3': 'Netflix',\n",
       " 'app4': 'AirBnB',\n",
       " 'app5': 'Instagram'}"
      ]
     },
     "execution_count": 13,
     "metadata": {},
     "output_type": "execute_result"
    }
   ],
   "source": [
    "apps_dict.update({'app1':'Youtube'})\n",
    "apps_dict"
   ]
  },
  {
   "cell_type": "markdown",
   "id": "8a9c0c14",
   "metadata": {},
   "source": [
    "3. Add a new key-value pair: app6-Messenger"
   ]
  },
  {
   "cell_type": "code",
   "execution_count": 14,
   "id": "fc2a046d",
   "metadata": {},
   "outputs": [
    {
     "data": {
      "text/plain": [
       "{'app0': 'Google',\n",
       " 'app1': 'Youtube',\n",
       " 'app2': 'Amazon',\n",
       " 'app3': 'Netflix',\n",
       " 'app4': 'AirBnB',\n",
       " 'app5': 'Instagram',\n",
       " 'app6': 'Messenger'}"
      ]
     },
     "execution_count": 14,
     "metadata": {},
     "output_type": "execute_result"
    }
   ],
   "source": [
    "apps_dict.update({'app6':'Messenger'})\n",
    "apps_dict"
   ]
  },
  {
   "cell_type": "markdown",
   "id": "48a75945",
   "metadata": {},
   "source": [
    "4. What does the syntax: apps_dict[”app1”]=”Messenger” do?"
   ]
  },
  {
   "cell_type": "code",
   "execution_count": 15,
   "id": "a76af9dc",
   "metadata": {},
   "outputs": [
    {
     "data": {
      "text/plain": [
       "{'app0': 'Google',\n",
       " 'app1': 'Messenger',\n",
       " 'app2': 'Amazon',\n",
       " 'app3': 'Netflix',\n",
       " 'app4': 'AirBnB',\n",
       " 'app5': 'Instagram',\n",
       " 'app6': 'Messenger'}"
      ]
     },
     "execution_count": 15,
     "metadata": {},
     "output_type": "execute_result"
    }
   ],
   "source": [
    "apps_dict ['app1'] = \"Messenger\"\n",
    "apps_dict"
   ]
  },
  {
   "cell_type": "markdown",
   "id": "867d1361",
   "metadata": {},
   "source": [
    "Replace the value of the key \"app1\", which is \"Youtube\" with \"Messenger\""
   ]
  },
  {
   "cell_type": "markdown",
   "id": "0f42bf5f",
   "metadata": {},
   "source": [
    " 5. What does the syntax: apps_dict[”App1”]=”Facebook” do? Why?"
   ]
  },
  {
   "cell_type": "code",
   "execution_count": 16,
   "id": "cf1e589f",
   "metadata": {},
   "outputs": [
    {
     "data": {
      "text/plain": [
       "{'app0': 'Google',\n",
       " 'app1': 'Messenger',\n",
       " 'app2': 'Amazon',\n",
       " 'app3': 'Netflix',\n",
       " 'app4': 'AirBnB',\n",
       " 'app5': 'Instagram',\n",
       " 'app6': 'Messenger',\n",
       " 'App1': 'Facebook'}"
      ]
     },
     "execution_count": 16,
     "metadata": {},
     "output_type": "execute_result"
    }
   ],
   "source": [
    "apps_dict['App1'] = 'Facebook'\n",
    "apps_dict"
   ]
  },
  {
   "cell_type": "markdown",
   "id": "0feafd27",
   "metadata": {},
   "source": [
    " Append a new key-value pair to the dictionary. \"Apps1\" and \"apps1\" are not the same key because \"A\" is upper case and \"a\" is lower case. So \"Apps1\" is considered as a new key"
   ]
  },
  {
   "cell_type": "markdown",
   "id": "59db1272",
   "metadata": {},
   "source": [
    "6. What does the syntax: del apps_dict[”App1”] do?"
   ]
  },
  {
   "cell_type": "code",
   "execution_count": 17,
   "id": "2fe4ae07",
   "metadata": {},
   "outputs": [
    {
     "data": {
      "text/plain": [
       "{'app0': 'Google',\n",
       " 'app1': 'Messenger',\n",
       " 'app2': 'Amazon',\n",
       " 'app3': 'Netflix',\n",
       " 'app4': 'AirBnB',\n",
       " 'app5': 'Instagram',\n",
       " 'app6': 'Messenger'}"
      ]
     },
     "execution_count": 17,
     "metadata": {},
     "output_type": "execute_result"
    }
   ],
   "source": [
    "del apps_dict['App1']\n",
    "apps_dict"
   ]
  },
  {
   "cell_type": "markdown",
   "id": "7d1ebe14",
   "metadata": {},
   "source": [
    "Delete the key-value pair \"App1\" = \"Facebook\" from the dictionary"
   ]
  },
  {
   "cell_type": "markdown",
   "id": "622a5156",
   "metadata": {},
   "source": [
    "### 1.4 List Comprehension\n",
    "1. Create the list named values with integers: 7, 12, 9, 18, 15."
   ]
  },
  {
   "cell_type": "code",
   "execution_count": 18,
   "id": "420bc045",
   "metadata": {},
   "outputs": [],
   "source": [
    "values = [7,12,9,18,15]"
   ]
  },
  {
   "cell_type": "markdown",
   "id": "8fe1a827",
   "metadata": {},
   "source": [
    "2. Create a list comprehension that takes the object values and returns the square of every value."
   ]
  },
  {
   "cell_type": "code",
   "execution_count": 19,
   "id": "cb233b89",
   "metadata": {},
   "outputs": [
    {
     "name": "stdout",
     "output_type": "stream",
     "text": [
      "[49, 144, 81, 324, 225]\n"
     ]
    }
   ],
   "source": [
    "new_values = []\n",
    "for v in values:\n",
    "    new_values.append(v**2)\n",
    "print(new_values)"
   ]
  },
  {
   "cell_type": "markdown",
   "id": "0fbb90c1",
   "metadata": {},
   "source": [
    "### 1.5 Functions and Control Flow\n",
    "1. Generate a sample of 10 random integer numbers between 600 and 900 (hint: use Numpy's random integers function)."
   ]
  },
  {
   "cell_type": "code",
   "execution_count": 20,
   "id": "01ab0f72",
   "metadata": {},
   "outputs": [
    {
     "data": {
      "text/plain": [
       "array([686, 879, 711, 885, 736, 655, 710, 750, 886, 837])"
      ]
     },
     "execution_count": 20,
     "metadata": {},
     "output_type": "execute_result"
    }
   ],
   "source": [
    "import numpy as np\n",
    "random = np.random.randint(600, 901, size = 10) # Use 901 because 900 can be included\n",
    "random"
   ]
  },
  {
   "cell_type": "markdown",
   "id": "fed3193b",
   "metadata": {},
   "source": [
    "2. Create a function called credit_score that reads the sample and returns the output 'Low' when the input is [600, 699], 'Medium' when in [700, 799] and 'High' when in [800, 900]."
   ]
  },
  {
   "cell_type": "code",
   "execution_count": 21,
   "id": "77305c4f",
   "metadata": {},
   "outputs": [
    {
     "name": "stdout",
     "output_type": "stream",
     "text": [
      "Low\n",
      "High\n",
      "Medium\n",
      "High\n",
      "Medium\n",
      "Low\n",
      "Medium\n",
      "Medium\n",
      "High\n",
      "High\n"
     ]
    }
   ],
   "source": [
    "def credit_score(sample):\n",
    "    for r in random:\n",
    "        if 600 <= r <= 699:\n",
    "            print (\"Low\")\n",
    "        elif 700 <= r <= 799:\n",
    "            print ('Medium')\n",
    "        else:\n",
    "            print('High')\n",
    "\n",
    "credit_score(random)"
   ]
  },
  {
   "cell_type": "markdown",
   "id": "5ac5a727",
   "metadata": {},
   "source": [
    "## 2 Linear Algebra in Numpy\n",
    "### 2.1 Matrix Calculations\n",
    "1. Create matrices A and B as numpy arrays and calculate 2A, -3B and A+B."
   ]
  },
  {
   "cell_type": "code",
   "execution_count": 22,
   "id": "cf86f7ed",
   "metadata": {},
   "outputs": [],
   "source": [
    "A_matrix = np.array([[2,1],[1,1],[2,3]])\n",
    "B_matrix = np.array([[-4,1],[3,-1],[-2,1]])"
   ]
  },
  {
   "cell_type": "code",
   "execution_count": 23,
   "id": "dd0961a0",
   "metadata": {},
   "outputs": [
    {
     "data": {
      "text/plain": [
       "array([[2, 1],\n",
       "       [1, 1],\n",
       "       [2, 3]])"
      ]
     },
     "execution_count": 23,
     "metadata": {},
     "output_type": "execute_result"
    }
   ],
   "source": [
    "A_matrix"
   ]
  },
  {
   "cell_type": "code",
   "execution_count": 24,
   "id": "02d4a725",
   "metadata": {},
   "outputs": [
    {
     "data": {
      "text/plain": [
       "array([[-4,  1],\n",
       "       [ 3, -1],\n",
       "       [-2,  1]])"
      ]
     },
     "execution_count": 24,
     "metadata": {},
     "output_type": "execute_result"
    }
   ],
   "source": [
    "B_matrix"
   ]
  },
  {
   "cell_type": "code",
   "execution_count": 25,
   "id": "494538a5",
   "metadata": {},
   "outputs": [
    {
     "data": {
      "text/plain": [
       "array([[4, 2],\n",
       "       [2, 2],\n",
       "       [4, 6]])"
      ]
     },
     "execution_count": 25,
     "metadata": {},
     "output_type": "execute_result"
    }
   ],
   "source": [
    "# Calculate 2A\n",
    "A_matrix*2"
   ]
  },
  {
   "cell_type": "code",
   "execution_count": 26,
   "id": "2cdc25e3",
   "metadata": {},
   "outputs": [
    {
     "data": {
      "text/plain": [
       "array([[12, -3],\n",
       "       [-9,  3],\n",
       "       [ 6, -3]])"
      ]
     },
     "execution_count": 26,
     "metadata": {},
     "output_type": "execute_result"
    }
   ],
   "source": [
    "# Calculate -3B\n",
    "B_matrix * -3"
   ]
  },
  {
   "cell_type": "code",
   "execution_count": 27,
   "id": "a742a963",
   "metadata": {},
   "outputs": [
    {
     "data": {
      "text/plain": [
       "array([[-2,  2],\n",
       "       [ 4,  0],\n",
       "       [ 0,  4]])"
      ]
     },
     "execution_count": 27,
     "metadata": {},
     "output_type": "execute_result"
    }
   ],
   "source": [
    "# Calculate A + B\n",
    "A_matrix + B_matrix"
   ]
  },
  {
   "cell_type": "markdown",
   "id": "03966215",
   "metadata": {},
   "source": [
    "2. Create matrices A and B as numpy arrays and calculate A*B and the inverse of B."
   ]
  },
  {
   "cell_type": "code",
   "execution_count": 28,
   "id": "4a9cd990",
   "metadata": {},
   "outputs": [],
   "source": [
    "Matrix_A = np.array([[2,-6],[-4,0],[1,5]])\n",
    "Matrix_B = np.array([[1,1],[2,3]])"
   ]
  },
  {
   "cell_type": "code",
   "execution_count": 29,
   "id": "eb3425ab",
   "metadata": {},
   "outputs": [
    {
     "data": {
      "text/plain": [
       "array([[ 2, -6],\n",
       "       [-4,  0],\n",
       "       [ 1,  5]])"
      ]
     },
     "execution_count": 29,
     "metadata": {},
     "output_type": "execute_result"
    }
   ],
   "source": [
    "Matrix_A"
   ]
  },
  {
   "cell_type": "code",
   "execution_count": 30,
   "id": "a78236c6",
   "metadata": {},
   "outputs": [
    {
     "data": {
      "text/plain": [
       "array([[1, 1],\n",
       "       [2, 3]])"
      ]
     },
     "execution_count": 30,
     "metadata": {},
     "output_type": "execute_result"
    }
   ],
   "source": [
    "Matrix_B"
   ]
  },
  {
   "cell_type": "code",
   "execution_count": 31,
   "id": "9316fb1a",
   "metadata": {},
   "outputs": [
    {
     "data": {
      "text/plain": [
       "array([[-10, -16],\n",
       "       [ -4,  -4],\n",
       "       [ 11,  16]])"
      ]
     },
     "execution_count": 31,
     "metadata": {},
     "output_type": "execute_result"
    }
   ],
   "source": [
    "# A * B\n",
    "np.dot(Matrix_A,Matrix_B)"
   ]
  },
  {
   "cell_type": "code",
   "execution_count": 32,
   "id": "b16aaea6",
   "metadata": {},
   "outputs": [
    {
     "data": {
      "text/plain": [
       "array([[ 3., -1.],\n",
       "       [-2.,  1.]])"
      ]
     },
     "execution_count": 32,
     "metadata": {},
     "output_type": "execute_result"
    }
   ],
   "source": [
    "# Inverse of B\n",
    "np.linalg.inv(Matrix_B)"
   ]
  },
  {
   "cell_type": "markdown",
   "id": "c2b20d76",
   "metadata": {},
   "source": [
    "3. Replace the values of the elements with abs(value)>=3 with the value 3. Also, calculate the determinant of the original matrix A."
   ]
  },
  {
   "cell_type": "code",
   "execution_count": 33,
   "id": "4b16a838",
   "metadata": {},
   "outputs": [
    {
     "data": {
      "text/plain": [
       "array([[ 1,  0,  3,  1],\n",
       "       [-2,  1,  3,  2],\n",
       "       [ 0,  0,  0,  2],\n",
       "       [ 3,  2,  1, -1]])"
      ]
     },
     "execution_count": 33,
     "metadata": {},
     "output_type": "execute_result"
    }
   ],
   "source": [
    "# Replace values\n",
    "matrixA = np.array([[1,0,4,1],[-2,1,-3,2],[0,0,0,2],[3,2,1,-1]])\n",
    "matrixA[abs(matrixA)>=3]=3\n",
    "matrixA"
   ]
  },
  {
   "cell_type": "code",
   "execution_count": 34,
   "id": "9e54bdb9",
   "metadata": {},
   "outputs": [
    {
     "data": {
      "text/plain": [
       "42.00000000000001"
      ]
     },
     "execution_count": 34,
     "metadata": {},
     "output_type": "execute_result"
    }
   ],
   "source": [
    "# Calculate determinant of the original matrix A\n",
    "matrixA = np.array([[1,0,4,1],[-2,1,-3,2],[0,0,0,2],[3,2,1,-1]])\n",
    "np.linalg.det(matrixA)"
   ]
  },
  {
   "cell_type": "markdown",
   "id": "20a9853d",
   "metadata": {},
   "source": [
    "### 2.2 Norms and eigenvalues\n",
    "1. Calculate the maximum and Euclidean or Frobenius norm of each of the three vectors:"
   ]
  },
  {
   "cell_type": "code",
   "execution_count": 35,
   "id": "33304901",
   "metadata": {},
   "outputs": [
    {
     "data": {
      "text/plain": [
       "3"
      ]
     },
     "execution_count": 35,
     "metadata": {},
     "output_type": "execute_result"
    }
   ],
   "source": [
    "# Calculate Maximum for x1\n",
    "x1 = np.array([1,-2,3])\n",
    "max(x1)"
   ]
  },
  {
   "cell_type": "code",
   "execution_count": 36,
   "id": "4a53b94b",
   "metadata": {},
   "outputs": [
    {
     "data": {
      "text/plain": [
       "3.7416573867739413"
      ]
     },
     "execution_count": 36,
     "metadata": {},
     "output_type": "execute_result"
    }
   ],
   "source": [
    "# Calculate Euclidean norm for x1\n",
    "np.linalg.norm(x1)"
   ]
  },
  {
   "cell_type": "code",
   "execution_count": 37,
   "id": "e974e3bd",
   "metadata": {},
   "outputs": [
    {
     "data": {
      "text/plain": [
       "2"
      ]
     },
     "execution_count": 37,
     "metadata": {},
     "output_type": "execute_result"
    }
   ],
   "source": [
    "# Calculate Maximum for x2\n",
    "x2 = np.array([2,0,-1,2])\n",
    "max(x2)"
   ]
  },
  {
   "cell_type": "code",
   "execution_count": 38,
   "id": "80bad3b1",
   "metadata": {},
   "outputs": [
    {
     "data": {
      "text/plain": [
       "3.0"
      ]
     },
     "execution_count": 38,
     "metadata": {},
     "output_type": "execute_result"
    }
   ],
   "source": [
    "# Calculate Euclidean norm for x2\n",
    "np.linalg.norm(x2)"
   ]
  },
  {
   "cell_type": "code",
   "execution_count": 39,
   "id": "86c6cce9",
   "metadata": {},
   "outputs": [
    {
     "data": {
      "text/plain": [
       "2"
      ]
     },
     "execution_count": 39,
     "metadata": {},
     "output_type": "execute_result"
    }
   ],
   "source": [
    "# Calculate Maximum and Euclidean norm for x3\n",
    "x3 = np.array([0,1,-4,2,-1])\n",
    "max(x3)"
   ]
  },
  {
   "cell_type": "code",
   "execution_count": 40,
   "id": "d8b37567",
   "metadata": {},
   "outputs": [
    {
     "data": {
      "text/plain": [
       "4.69041575982343"
      ]
     },
     "execution_count": 40,
     "metadata": {},
     "output_type": "execute_result"
    }
   ],
   "source": [
    "np.linalg.norm(x3)"
   ]
  },
  {
   "cell_type": "markdown",
   "id": "7c8a2bab",
   "metadata": {},
   "source": [
    "2. Calculate the l2 and l∞ norms of the matrices"
   ]
  },
  {
   "cell_type": "code",
   "execution_count": 41,
   "id": "ee30e568",
   "metadata": {},
   "outputs": [],
   "source": [
    "A1 = np.array([[1,-2],[4,3]])\n",
    "A2 = np.array([[1,0,2],[0,1,-1],[-1,1,1]])"
   ]
  },
  {
   "cell_type": "code",
   "execution_count": 42,
   "id": "230ff144",
   "metadata": {},
   "outputs": [
    {
     "data": {
      "text/plain": [
       "5.0197648378370845"
      ]
     },
     "execution_count": 42,
     "metadata": {},
     "output_type": "execute_result"
    }
   ],
   "source": [
    "# Calculate the l2 norms of A1\n",
    "np.linalg.norm(A1,2)"
   ]
  },
  {
   "cell_type": "code",
   "execution_count": 43,
   "id": "0c00a7cd",
   "metadata": {},
   "outputs": [
    {
     "data": {
      "text/plain": [
       "7.0"
      ]
     },
     "execution_count": 43,
     "metadata": {},
     "output_type": "execute_result"
    }
   ],
   "source": [
    "# Calculate the l∞ norms of A1\n",
    "np.linalg.norm(A1,np.inf)"
   ]
  },
  {
   "cell_type": "code",
   "execution_count": 44,
   "id": "31ff920a",
   "metadata": {},
   "outputs": [
    {
     "data": {
      "text/plain": [
       "2.4998281017161057"
      ]
     },
     "execution_count": 44,
     "metadata": {},
     "output_type": "execute_result"
    }
   ],
   "source": [
    "# Calculate the l2 norms of A2\n",
    "np.linalg.norm(A2,2)"
   ]
  },
  {
   "cell_type": "code",
   "execution_count": 45,
   "id": "b5e9a7bd",
   "metadata": {},
   "outputs": [
    {
     "data": {
      "text/plain": [
       "3.0"
      ]
     },
     "execution_count": 45,
     "metadata": {},
     "output_type": "execute_result"
    }
   ],
   "source": [
    "# Calculate the l∞ norms of A2\n",
    "np.linalg.norm(A2,np.inf)"
   ]
  },
  {
   "cell_type": "markdown",
   "id": "690aadf6",
   "metadata": {},
   "source": [
    "3. Calculate the eigenvalues of the matrix:"
   ]
  },
  {
   "cell_type": "code",
   "execution_count": 46,
   "id": "7f4d573b",
   "metadata": {},
   "outputs": [
    {
     "data": {
      "text/plain": [
       "array([-12.,   3.,  -3.])"
      ]
     },
     "execution_count": 46,
     "metadata": {},
     "output_type": "execute_result"
    }
   ],
   "source": [
    "matrix_a = np.array([[-2,-2,3],[-10,-1,6],[10,-2,-9]])\n",
    "np.linalg.eigvals(matrix_a)"
   ]
  },
  {
   "cell_type": "markdown",
   "id": "2ecf2242",
   "metadata": {},
   "source": [
    "## 3 Pandas Manipulations\n",
    "1. Import file Gas prices.xls as a pandas DataFrame. Create a function that replaces NaN with the interpolation between the adjacent values (i.e. the prior and the subsequent to the NaN)."
   ]
  },
  {
   "cell_type": "code",
   "execution_count": 47,
   "id": "520cdedc",
   "metadata": {},
   "outputs": [
    {
     "name": "stderr",
     "output_type": "stream",
     "text": [
      "/Users/jialinshang/opt/anaconda3/lib/python3.9/site-packages/openpyxl/worksheet/_reader.py:312: UserWarning: Unknown extension is not supported and will be removed\n",
      "  warn(msg)\n"
     ]
    },
    {
     "data": {
      "text/html": [
       "<div>\n",
       "<style scoped>\n",
       "    .dataframe tbody tr th:only-of-type {\n",
       "        vertical-align: middle;\n",
       "    }\n",
       "\n",
       "    .dataframe tbody tr th {\n",
       "        vertical-align: top;\n",
       "    }\n",
       "\n",
       "    .dataframe thead th {\n",
       "        text-align: right;\n",
       "    }\n",
       "</style>\n",
       "<table border=\"1\" class=\"dataframe\">\n",
       "  <thead>\n",
       "    <tr style=\"text-align: right;\">\n",
       "      <th></th>\n",
       "      <th>Date</th>\n",
       "      <th>Price_pl</th>\n",
       "    </tr>\n",
       "  </thead>\n",
       "  <tbody>\n",
       "    <tr>\n",
       "      <th>0</th>\n",
       "      <td>2015-11-12</td>\n",
       "      <td>1.049</td>\n",
       "    </tr>\n",
       "    <tr>\n",
       "      <th>1</th>\n",
       "      <td>2015-11-19</td>\n",
       "      <td>0.999</td>\n",
       "    </tr>\n",
       "    <tr>\n",
       "      <th>2</th>\n",
       "      <td>2015-12-07</td>\n",
       "      <td>0.999</td>\n",
       "    </tr>\n",
       "    <tr>\n",
       "      <th>3</th>\n",
       "      <td>2015-12-19</td>\n",
       "      <td>1.019</td>\n",
       "    </tr>\n",
       "    <tr>\n",
       "      <th>4</th>\n",
       "      <td>2016-01-04</td>\n",
       "      <td>1.019</td>\n",
       "    </tr>\n",
       "  </tbody>\n",
       "</table>\n",
       "</div>"
      ],
      "text/plain": [
       "        Date  Price_pl\n",
       "0 2015-11-12     1.049\n",
       "1 2015-11-19     0.999\n",
       "2 2015-12-07     0.999\n",
       "3 2015-12-19     1.019\n",
       "4 2016-01-04     1.019"
      ]
     },
     "execution_count": 47,
     "metadata": {},
     "output_type": "execute_result"
    }
   ],
   "source": [
    "import pandas as pd\n",
    "gas = pd.read_excel (r'Gas_prices.xlsx')\n",
    "gas['Date'] = pd.to_datetime(gas['Date'],format = '%d/%m/%Y')\n",
    "gas.head()"
   ]
  },
  {
   "cell_type": "code",
   "execution_count": 48,
   "id": "2ab7f94a",
   "metadata": {},
   "outputs": [
    {
     "data": {
      "text/plain": [
       "<bound method DataFrame.count of          Date  Price_pl\n",
       "12 2016-04-15       NaN\n",
       "25 2016-08-02       NaN\n",
       "54 2017-08-10       NaN\n",
       "70 2018-04-24       NaN>"
      ]
     },
     "execution_count": 48,
     "metadata": {},
     "output_type": "execute_result"
    }
   ],
   "source": [
    "# Check NaN\n",
    "gas[gas.Price_pl.isnull()].count"
   ]
  },
  {
   "cell_type": "code",
   "execution_count": 49,
   "id": "d848a9e7",
   "metadata": {},
   "outputs": [
    {
     "data": {
      "text/html": [
       "<div>\n",
       "<style scoped>\n",
       "    .dataframe tbody tr th:only-of-type {\n",
       "        vertical-align: middle;\n",
       "    }\n",
       "\n",
       "    .dataframe tbody tr th {\n",
       "        vertical-align: top;\n",
       "    }\n",
       "\n",
       "    .dataframe thead th {\n",
       "        text-align: right;\n",
       "    }\n",
       "</style>\n",
       "<table border=\"1\" class=\"dataframe\">\n",
       "  <thead>\n",
       "    <tr style=\"text-align: right;\">\n",
       "      <th></th>\n",
       "      <th>Date</th>\n",
       "      <th>Price_pl</th>\n",
       "    </tr>\n",
       "  </thead>\n",
       "  <tbody>\n",
       "    <tr>\n",
       "      <th>0</th>\n",
       "      <td>2015-11-12</td>\n",
       "      <td>1.049</td>\n",
       "    </tr>\n",
       "    <tr>\n",
       "      <th>1</th>\n",
       "      <td>2015-11-19</td>\n",
       "      <td>0.999</td>\n",
       "    </tr>\n",
       "    <tr>\n",
       "      <th>2</th>\n",
       "      <td>2015-12-07</td>\n",
       "      <td>0.999</td>\n",
       "    </tr>\n",
       "    <tr>\n",
       "      <th>3</th>\n",
       "      <td>2015-12-19</td>\n",
       "      <td>1.019</td>\n",
       "    </tr>\n",
       "    <tr>\n",
       "      <th>4</th>\n",
       "      <td>2016-01-04</td>\n",
       "      <td>1.019</td>\n",
       "    </tr>\n",
       "  </tbody>\n",
       "</table>\n",
       "</div>"
      ],
      "text/plain": [
       "        Date  Price_pl\n",
       "0 2015-11-12     1.049\n",
       "1 2015-11-19     0.999\n",
       "2 2015-12-07     0.999\n",
       "3 2015-12-19     1.019\n",
       "4 2016-01-04     1.019"
      ]
     },
     "execution_count": 49,
     "metadata": {},
     "output_type": "execute_result"
    }
   ],
   "source": [
    "# Replace NaN with the interpolation between the adjacent values \n",
    "def interpolation(gas, col):\n",
    "    for i in gas[gas[col].isnull()].index:\n",
    "        n = (1/2) * (gas.loc[i - 1,'Price_pl'] + gas.loc[i + 1,'Price_pl'])\n",
    "        gas.loc[i, 'Price_pl'] = n\n",
    "    return gas\n",
    "gas = interpolation(gas,'Price_pl')\n",
    "gas.head()"
   ]
  },
  {
   "cell_type": "code",
   "execution_count": 50,
   "id": "9943dbff",
   "metadata": {},
   "outputs": [
    {
     "data": {
      "text/plain": [
       "<bound method DataFrame.count of Empty DataFrame\n",
       "Columns: [Date, Price_pl]\n",
       "Index: []>"
      ]
     },
     "execution_count": 50,
     "metadata": {},
     "output_type": "execute_result"
    }
   ],
   "source": [
    "# Check NaN\n",
    "gas[gas.Price_pl.isnull()].count"
   ]
  },
  {
   "cell_type": "markdown",
   "id": "34f69b78",
   "metadata": {},
   "source": [
    "2. Find the index, the date and the value of the min and max gas price."
   ]
  },
  {
   "cell_type": "code",
   "execution_count": 51,
   "id": "647819ec",
   "metadata": {},
   "outputs": [
    {
     "name": "stdout",
     "output_type": "stream",
     "text": [
      "9\n",
      "2016-02-20 00:00:00\n",
      "0.889\n"
     ]
    }
   ],
   "source": [
    "# Find the index, the date and the value of the max gas price.\n",
    "print(np.argmin(gas.Price_pl))\n",
    "print(gas.loc[np.argmin(gas.Price_pl),'Date'])\n",
    "print(gas.Price_pl.min())"
   ]
  },
  {
   "cell_type": "code",
   "execution_count": 52,
   "id": "6c7813cc",
   "metadata": {},
   "outputs": [
    {
     "name": "stdout",
     "output_type": "stream",
     "text": [
      "73\n",
      "2018-05-23 00:00:00\n",
      "1.336\n"
     ]
    }
   ],
   "source": [
    "# Find the index, the date and the value of the min as price.\n",
    "print(np.argmax(gas.Price_pl))\n",
    "print(gas.loc[np.argmax(gas.Price_pl),'Date'])\n",
    "print(gas.Price_pl.max())"
   ]
  },
  {
   "cell_type": "markdown",
   "id": "bd20defd",
   "metadata": {},
   "source": [
    "3. Calculate the following descriptive statistics: mean, median, quantile, skewness and\n",
    "kurtosis."
   ]
  },
  {
   "cell_type": "code",
   "execution_count": 53,
   "id": "a0b0592c",
   "metadata": {},
   "outputs": [
    {
     "data": {
      "text/plain": [
       "1.0953902439024386"
      ]
     },
     "execution_count": 53,
     "metadata": {},
     "output_type": "execute_result"
    }
   ],
   "source": [
    "# Calculate Mean\n",
    "gas.Price_pl.mean()"
   ]
  },
  {
   "cell_type": "code",
   "execution_count": 54,
   "id": "d04d063d",
   "metadata": {},
   "outputs": [
    {
     "data": {
      "text/plain": [
       "1.079"
      ]
     },
     "execution_count": 54,
     "metadata": {},
     "output_type": "execute_result"
    }
   ],
   "source": [
    "# Calculate Median\n",
    "gas.Price_pl.median()"
   ]
  },
  {
   "cell_type": "code",
   "execution_count": 55,
   "id": "438ed796",
   "metadata": {},
   "outputs": [
    {
     "data": {
      "text/plain": [
       "1.01975"
      ]
     },
     "execution_count": 55,
     "metadata": {},
     "output_type": "execute_result"
    }
   ],
   "source": [
    "# Calculate quantile\n",
    "gas.Price_pl.quantile(q=0.25)"
   ]
  },
  {
   "cell_type": "code",
   "execution_count": 56,
   "id": "d68f405e",
   "metadata": {},
   "outputs": [
    {
     "data": {
      "text/plain": [
       "1.1717499999999998"
      ]
     },
     "execution_count": 56,
     "metadata": {},
     "output_type": "execute_result"
    }
   ],
   "source": [
    "gas.Price_pl.quantile(q=0.75)"
   ]
  },
  {
   "cell_type": "code",
   "execution_count": 57,
   "id": "b4f6e62c",
   "metadata": {},
   "outputs": [
    {
     "data": {
      "text/plain": [
       "0.46752591499730667"
      ]
     },
     "execution_count": 57,
     "metadata": {},
     "output_type": "execute_result"
    }
   ],
   "source": [
    "# Calculate Skewness\n",
    "gas.Price_pl.skew()"
   ]
  },
  {
   "cell_type": "code",
   "execution_count": 58,
   "id": "ca1efb19",
   "metadata": {},
   "outputs": [
    {
     "data": {
      "text/plain": [
       "-0.257963187132765"
      ]
     },
     "execution_count": 58,
     "metadata": {},
     "output_type": "execute_result"
    }
   ],
   "source": [
    "# Calculate Kurtosis\n",
    "gas.Price_pl.kurtosis()"
   ]
  },
  {
   "cell_type": "markdown",
   "id": "73a8b6c3",
   "metadata": {},
   "source": [
    "4. Create two new columns with the Month and Year. Pivot the table by Month(index)\n",
    "and Year(columns). Calculate and plot the monthly average gas price. This should\n",
    "give you one line per year."
   ]
  },
  {
   "cell_type": "code",
   "execution_count": 59,
   "id": "67186cbb",
   "metadata": {},
   "outputs": [
    {
     "data": {
      "text/html": [
       "<div>\n",
       "<style scoped>\n",
       "    .dataframe tbody tr th:only-of-type {\n",
       "        vertical-align: middle;\n",
       "    }\n",
       "\n",
       "    .dataframe tbody tr th {\n",
       "        vertical-align: top;\n",
       "    }\n",
       "\n",
       "    .dataframe thead th {\n",
       "        text-align: right;\n",
       "    }\n",
       "</style>\n",
       "<table border=\"1\" class=\"dataframe\">\n",
       "  <thead>\n",
       "    <tr style=\"text-align: right;\">\n",
       "      <th></th>\n",
       "      <th>Date</th>\n",
       "      <th>Price_pl</th>\n",
       "      <th>year</th>\n",
       "      <th>month</th>\n",
       "    </tr>\n",
       "  </thead>\n",
       "  <tbody>\n",
       "    <tr>\n",
       "      <th>0</th>\n",
       "      <td>2015-11-12</td>\n",
       "      <td>1.049</td>\n",
       "      <td>2015</td>\n",
       "      <td>11</td>\n",
       "    </tr>\n",
       "    <tr>\n",
       "      <th>1</th>\n",
       "      <td>2015-11-19</td>\n",
       "      <td>0.999</td>\n",
       "      <td>2015</td>\n",
       "      <td>11</td>\n",
       "    </tr>\n",
       "    <tr>\n",
       "      <th>2</th>\n",
       "      <td>2015-12-07</td>\n",
       "      <td>0.999</td>\n",
       "      <td>2015</td>\n",
       "      <td>12</td>\n",
       "    </tr>\n",
       "    <tr>\n",
       "      <th>3</th>\n",
       "      <td>2015-12-19</td>\n",
       "      <td>1.019</td>\n",
       "      <td>2015</td>\n",
       "      <td>12</td>\n",
       "    </tr>\n",
       "    <tr>\n",
       "      <th>4</th>\n",
       "      <td>2016-01-04</td>\n",
       "      <td>1.019</td>\n",
       "      <td>2016</td>\n",
       "      <td>1</td>\n",
       "    </tr>\n",
       "  </tbody>\n",
       "</table>\n",
       "</div>"
      ],
      "text/plain": [
       "        Date  Price_pl  year  month\n",
       "0 2015-11-12     1.049  2015     11\n",
       "1 2015-11-19     0.999  2015     11\n",
       "2 2015-12-07     0.999  2015     12\n",
       "3 2015-12-19     1.019  2015     12\n",
       "4 2016-01-04     1.019  2016      1"
      ]
     },
     "execution_count": 59,
     "metadata": {},
     "output_type": "execute_result"
    }
   ],
   "source": [
    "import matplotlib.pyplot as plt\n",
    "import datetime\n",
    "# Create two new columns with the Month and Year\n",
    "gas['year'] = pd.to_datetime(gas['Date']).dt.year\n",
    "gas['month'] = pd.to_datetime(gas['Date']).dt.month\n",
    "gas.head()"
   ]
  },
  {
   "cell_type": "code",
   "execution_count": 60,
   "id": "66f7a35d",
   "metadata": {},
   "outputs": [
    {
     "data": {
      "text/html": [
       "<div>\n",
       "<style scoped>\n",
       "    .dataframe tbody tr th:only-of-type {\n",
       "        vertical-align: middle;\n",
       "    }\n",
       "\n",
       "    .dataframe tbody tr th {\n",
       "        vertical-align: top;\n",
       "    }\n",
       "\n",
       "    .dataframe thead th {\n",
       "        text-align: right;\n",
       "    }\n",
       "</style>\n",
       "<table border=\"1\" class=\"dataframe\">\n",
       "  <thead>\n",
       "    <tr style=\"text-align: right;\">\n",
       "      <th>year</th>\n",
       "      <th>2015</th>\n",
       "      <th>2016</th>\n",
       "      <th>2017</th>\n",
       "      <th>2018</th>\n",
       "    </tr>\n",
       "    <tr>\n",
       "      <th>month</th>\n",
       "      <th></th>\n",
       "      <th></th>\n",
       "      <th></th>\n",
       "      <th></th>\n",
       "    </tr>\n",
       "  </thead>\n",
       "  <tbody>\n",
       "    <tr>\n",
       "      <th>1</th>\n",
       "      <td>NaN</td>\n",
       "      <td>0.964000</td>\n",
       "      <td>1.119000</td>\n",
       "      <td>1.197500</td>\n",
       "    </tr>\n",
       "    <tr>\n",
       "      <th>2</th>\n",
       "      <td>NaN</td>\n",
       "      <td>0.899000</td>\n",
       "      <td>1.079000</td>\n",
       "      <td>1.186000</td>\n",
       "    </tr>\n",
       "    <tr>\n",
       "      <th>3</th>\n",
       "      <td>NaN</td>\n",
       "      <td>0.929000</td>\n",
       "      <td>1.075000</td>\n",
       "      <td>1.215000</td>\n",
       "    </tr>\n",
       "    <tr>\n",
       "      <th>4</th>\n",
       "      <td>NaN</td>\n",
       "      <td>1.031500</td>\n",
       "      <td>1.175667</td>\n",
       "      <td>1.287750</td>\n",
       "    </tr>\n",
       "    <tr>\n",
       "      <th>5</th>\n",
       "      <td>NaN</td>\n",
       "      <td>1.075667</td>\n",
       "      <td>1.109000</td>\n",
       "      <td>1.328333</td>\n",
       "    </tr>\n",
       "  </tbody>\n",
       "</table>\n",
       "</div>"
      ],
      "text/plain": [
       "year   2015      2016      2017      2018\n",
       "month                                    \n",
       "1       NaN  0.964000  1.119000  1.197500\n",
       "2       NaN  0.899000  1.079000  1.186000\n",
       "3       NaN  0.929000  1.075000  1.215000\n",
       "4       NaN  1.031500  1.175667  1.287750\n",
       "5       NaN  1.075667  1.109000  1.328333"
      ]
     },
     "execution_count": 60,
     "metadata": {},
     "output_type": "execute_result"
    }
   ],
   "source": [
    "# Pivot the table by Month(index) and Year(columns)\n",
    "pivot_table = pd.pivot_table(gas, values = 'Price_pl', columns = 'year', index = 'month')\n",
    "pivot_table.head()"
   ]
  },
  {
   "cell_type": "code",
   "execution_count": 61,
   "id": "b858fc94",
   "metadata": {},
   "outputs": [
    {
     "data": {
      "image/png": "[encoded data removed]",
      "text/plain": [
       "<Figure size 720x504 with 1 Axes>"
      ]
     },
     "metadata": {
      "needs_background": "light"
     },
     "output_type": "display_data"
    }
   ],
   "source": [
    "# Plot the monthly average gas price\n",
    "pivot_table.plot(figsize = (10,7))\n",
    "plt.show()"
   ]
  },
  {
   "cell_type": "markdown",
   "id": "34f85914",
   "metadata": {},
   "source": [
    "5. Create a new column with the season of the year, set it as a secondary index and\n",
    "calculate the average of every season (regardless of the year) to create the following\n",
    "table:"
   ]
  },
  {
   "cell_type": "code",
   "execution_count": 62,
   "id": "181d7682",
   "metadata": {},
   "outputs": [
    {
     "data": {
      "text/html": [
       "<div>\n",
       "<style scoped>\n",
       "    .dataframe tbody tr th:only-of-type {\n",
       "        vertical-align: middle;\n",
       "    }\n",
       "\n",
       "    .dataframe tbody tr th {\n",
       "        vertical-align: top;\n",
       "    }\n",
       "\n",
       "    .dataframe thead th {\n",
       "        text-align: right;\n",
       "    }\n",
       "</style>\n",
       "<table border=\"1\" class=\"dataframe\">\n",
       "  <thead>\n",
       "    <tr style=\"text-align: right;\">\n",
       "      <th></th>\n",
       "      <th>Date</th>\n",
       "      <th>Price_pl</th>\n",
       "      <th>year</th>\n",
       "      <th>month</th>\n",
       "      <th>season</th>\n",
       "    </tr>\n",
       "  </thead>\n",
       "  <tbody>\n",
       "    <tr>\n",
       "      <th>0</th>\n",
       "      <td>2015-11-12</td>\n",
       "      <td>1.049</td>\n",
       "      <td>2015</td>\n",
       "      <td>11</td>\n",
       "      <td>Fall</td>\n",
       "    </tr>\n",
       "    <tr>\n",
       "      <th>1</th>\n",
       "      <td>2015-11-19</td>\n",
       "      <td>0.999</td>\n",
       "      <td>2015</td>\n",
       "      <td>11</td>\n",
       "      <td>Fall</td>\n",
       "    </tr>\n",
       "    <tr>\n",
       "      <th>2</th>\n",
       "      <td>2015-12-07</td>\n",
       "      <td>0.999</td>\n",
       "      <td>2015</td>\n",
       "      <td>12</td>\n",
       "      <td>Winter</td>\n",
       "    </tr>\n",
       "    <tr>\n",
       "      <th>3</th>\n",
       "      <td>2015-12-19</td>\n",
       "      <td>1.019</td>\n",
       "      <td>2015</td>\n",
       "      <td>12</td>\n",
       "      <td>Winter</td>\n",
       "    </tr>\n",
       "    <tr>\n",
       "      <th>4</th>\n",
       "      <td>2016-01-04</td>\n",
       "      <td>1.019</td>\n",
       "      <td>2016</td>\n",
       "      <td>1</td>\n",
       "      <td>Winter</td>\n",
       "    </tr>\n",
       "    <tr>\n",
       "      <th>...</th>\n",
       "      <td>...</td>\n",
       "      <td>...</td>\n",
       "      <td>...</td>\n",
       "      <td>...</td>\n",
       "      <td>...</td>\n",
       "    </tr>\n",
       "    <tr>\n",
       "      <th>77</th>\n",
       "      <td>2018-10-17</td>\n",
       "      <td>1.209</td>\n",
       "      <td>2018</td>\n",
       "      <td>10</td>\n",
       "      <td>Fall</td>\n",
       "    </tr>\n",
       "    <tr>\n",
       "      <th>78</th>\n",
       "      <td>2018-11-01</td>\n",
       "      <td>1.196</td>\n",
       "      <td>2018</td>\n",
       "      <td>11</td>\n",
       "      <td>Fall</td>\n",
       "    </tr>\n",
       "    <tr>\n",
       "      <th>79</th>\n",
       "      <td>2018-11-12</td>\n",
       "      <td>1.126</td>\n",
       "      <td>2018</td>\n",
       "      <td>11</td>\n",
       "      <td>Fall</td>\n",
       "    </tr>\n",
       "    <tr>\n",
       "      <th>80</th>\n",
       "      <td>2018-11-27</td>\n",
       "      <td>1.059</td>\n",
       "      <td>2018</td>\n",
       "      <td>11</td>\n",
       "      <td>Fall</td>\n",
       "    </tr>\n",
       "    <tr>\n",
       "      <th>81</th>\n",
       "      <td>2018-12-06</td>\n",
       "      <td>1.016</td>\n",
       "      <td>2018</td>\n",
       "      <td>12</td>\n",
       "      <td>Winter</td>\n",
       "    </tr>\n",
       "  </tbody>\n",
       "</table>\n",
       "<p>82 rows × 5 columns</p>\n",
       "</div>"
      ],
      "text/plain": [
       "         Date  Price_pl  year  month  season\n",
       "0  2015-11-12     1.049  2015     11    Fall\n",
       "1  2015-11-19     0.999  2015     11    Fall\n",
       "2  2015-12-07     0.999  2015     12  Winter\n",
       "3  2015-12-19     1.019  2015     12  Winter\n",
       "4  2016-01-04     1.019  2016      1  Winter\n",
       "..        ...       ...   ...    ...     ...\n",
       "77 2018-10-17     1.209  2018     10    Fall\n",
       "78 2018-11-01     1.196  2018     11    Fall\n",
       "79 2018-11-12     1.126  2018     11    Fall\n",
       "80 2018-11-27     1.059  2018     11    Fall\n",
       "81 2018-12-06     1.016  2018     12  Winter\n",
       "\n",
       "[82 rows x 5 columns]"
      ]
     },
     "execution_count": 62,
     "metadata": {},
     "output_type": "execute_result"
    }
   ],
   "source": [
    "# Create new columns of season\n",
    "gas['season'] = gas.month % 12 // 3 + 1\n",
    "gas['season'] = gas['season'].map({1:'Winter', 2:'Spring', 3:'Summer', 4:'Fall'})\n",
    "gas"
   ]
  },
  {
   "cell_type": "code",
   "execution_count": 63,
   "id": "087e9267",
   "metadata": {},
   "outputs": [
    {
     "data": {
      "text/html": [
       "<div>\n",
       "<style scoped>\n",
       "    .dataframe tbody tr th:only-of-type {\n",
       "        vertical-align: middle;\n",
       "    }\n",
       "\n",
       "    .dataframe tbody tr th {\n",
       "        vertical-align: top;\n",
       "    }\n",
       "\n",
       "    .dataframe thead th {\n",
       "        text-align: right;\n",
       "    }\n",
       "</style>\n",
       "<table border=\"1\" class=\"dataframe\">\n",
       "  <thead>\n",
       "    <tr style=\"text-align: right;\">\n",
       "      <th></th>\n",
       "      <th></th>\n",
       "      <th>Price_pl</th>\n",
       "    </tr>\n",
       "    <tr>\n",
       "      <th>month</th>\n",
       "      <th>season</th>\n",
       "      <th></th>\n",
       "    </tr>\n",
       "  </thead>\n",
       "  <tbody>\n",
       "    <tr>\n",
       "      <th>1</th>\n",
       "      <th>Winter</th>\n",
       "      <td>1.072700</td>\n",
       "    </tr>\n",
       "    <tr>\n",
       "      <th>2</th>\n",
       "      <th>Winter</th>\n",
       "      <td>1.058143</td>\n",
       "    </tr>\n",
       "    <tr>\n",
       "      <th>3</th>\n",
       "      <th>Spring</th>\n",
       "      <td>1.087800</td>\n",
       "    </tr>\n",
       "    <tr>\n",
       "      <th>4</th>\n",
       "      <th>Spring</th>\n",
       "      <td>1.166500</td>\n",
       "    </tr>\n",
       "    <tr>\n",
       "      <th>5</th>\n",
       "      <th>Spring</th>\n",
       "      <td>1.154800</td>\n",
       "    </tr>\n",
       "    <tr>\n",
       "      <th>6</th>\n",
       "      <th>Summer</th>\n",
       "      <td>1.091000</td>\n",
       "    </tr>\n",
       "    <tr>\n",
       "      <th>7</th>\n",
       "      <th>Summer</th>\n",
       "      <td>1.146400</td>\n",
       "    </tr>\n",
       "    <tr>\n",
       "      <th>8</th>\n",
       "      <th>Summer</th>\n",
       "      <td>1.039643</td>\n",
       "    </tr>\n",
       "    <tr>\n",
       "      <th>9</th>\n",
       "      <th>Fall</th>\n",
       "      <td>1.042500</td>\n",
       "    </tr>\n",
       "    <tr>\n",
       "      <th>10</th>\n",
       "      <th>Fall</th>\n",
       "      <td>1.108250</td>\n",
       "    </tr>\n",
       "    <tr>\n",
       "      <th>11</th>\n",
       "      <th>Fall</th>\n",
       "      <td>1.063750</td>\n",
       "    </tr>\n",
       "    <tr>\n",
       "      <th>12</th>\n",
       "      <th>Winter</th>\n",
       "      <td>1.086286</td>\n",
       "    </tr>\n",
       "  </tbody>\n",
       "</table>\n",
       "</div>"
      ],
      "text/plain": [
       "              Price_pl\n",
       "month season          \n",
       "1     Winter  1.072700\n",
       "2     Winter  1.058143\n",
       "3     Spring  1.087800\n",
       "4     Spring  1.166500\n",
       "5     Spring  1.154800\n",
       "6     Summer  1.091000\n",
       "7     Summer  1.146400\n",
       "8     Summer  1.039643\n",
       "9     Fall    1.042500\n",
       "10    Fall    1.108250\n",
       "11    Fall    1.063750\n",
       "12    Winter  1.086286"
      ]
     },
     "execution_count": 63,
     "metadata": {},
     "output_type": "execute_result"
    }
   ],
   "source": [
    "# Set season as secondary index\n",
    "sec_i = gas.pivot_table(values ='Price_pl', index = ['month','season'])\n",
    "sec_i"
   ]
  },
  {
   "cell_type": "code",
   "execution_count": 64,
   "id": "d8a76c8a",
   "metadata": {},
   "outputs": [
    {
     "data": {
      "text/html": [
       "<div>\n",
       "<style scoped>\n",
       "    .dataframe tbody tr th:only-of-type {\n",
       "        vertical-align: middle;\n",
       "    }\n",
       "\n",
       "    .dataframe tbody tr th {\n",
       "        vertical-align: top;\n",
       "    }\n",
       "\n",
       "    .dataframe thead th {\n",
       "        text-align: right;\n",
       "    }\n",
       "</style>\n",
       "<table border=\"1\" class=\"dataframe\">\n",
       "  <thead>\n",
       "    <tr style=\"text-align: right;\">\n",
       "      <th></th>\n",
       "      <th>Price_pl</th>\n",
       "    </tr>\n",
       "    <tr>\n",
       "      <th>season</th>\n",
       "      <th></th>\n",
       "    </tr>\n",
       "  </thead>\n",
       "  <tbody>\n",
       "    <tr>\n",
       "      <th>Fall</th>\n",
       "      <td>1.073429</td>\n",
       "    </tr>\n",
       "    <tr>\n",
       "      <th>Spring</th>\n",
       "      <td>1.133019</td>\n",
       "    </tr>\n",
       "    <tr>\n",
       "      <th>Summer</th>\n",
       "      <td>1.086147</td>\n",
       "    </tr>\n",
       "    <tr>\n",
       "      <th>Winter</th>\n",
       "      <td>1.072417</td>\n",
       "    </tr>\n",
       "  </tbody>\n",
       "</table>\n",
       "</div>"
      ],
      "text/plain": [
       "        Price_pl\n",
       "season          \n",
       "Fall    1.073429\n",
       "Spring  1.133019\n",
       "Summer  1.086147\n",
       "Winter  1.072417"
      ]
     },
     "execution_count": 64,
     "metadata": {},
     "output_type": "execute_result"
    }
   ],
   "source": [
    "# Calculate the average of every season\n",
    "avg_everyseason = gas.pivot_table(index = 'season', values = 'Price_pl')\n",
    "avg_everyseason"
   ]
  },
  {
   "cell_type": "markdown",
   "id": "d0c3594d",
   "metadata": {},
   "source": [
    "## 4 Pivot, aggregate and plot timeseries\n",
    "1. Import file TREB data.xls as a pandas DataFrame. Create the necessary columns to pivot and generate the table below with the value of Sales (hint: use the split() function to split the MonthYear column to Month and Year)."
   ]
  },
  {
   "cell_type": "code",
   "execution_count": 65,
   "id": "efbf2a92",
   "metadata": {},
   "outputs": [
    {
     "name": "stderr",
     "output_type": "stream",
     "text": [
      "/Users/jialinshang/opt/anaconda3/lib/python3.9/site-packages/openpyxl/worksheet/_reader.py:312: UserWarning: Unknown extension is not supported and will be removed\n",
      "  warn(msg)\n"
     ]
    },
    {
     "data": {
      "text/html": [
       "<div>\n",
       "<style scoped>\n",
       "    .dataframe tbody tr th:only-of-type {\n",
       "        vertical-align: middle;\n",
       "    }\n",
       "\n",
       "    .dataframe tbody tr th {\n",
       "        vertical-align: top;\n",
       "    }\n",
       "\n",
       "    .dataframe thead th {\n",
       "        text-align: right;\n",
       "    }\n",
       "</style>\n",
       "<table border=\"1\" class=\"dataframe\">\n",
       "  <thead>\n",
       "    <tr style=\"text-align: right;\">\n",
       "      <th></th>\n",
       "      <th>MonthYear</th>\n",
       "      <th>Sales</th>\n",
       "      <th>AveragePrice</th>\n",
       "      <th>Month</th>\n",
       "      <th>Year</th>\n",
       "    </tr>\n",
       "  </thead>\n",
       "  <tbody>\n",
       "    <tr>\n",
       "      <th>0</th>\n",
       "      <td>January-2017</td>\n",
       "      <td>5155</td>\n",
       "      <td>768351</td>\n",
       "      <td>January</td>\n",
       "      <td>2017</td>\n",
       "    </tr>\n",
       "    <tr>\n",
       "      <th>1</th>\n",
       "      <td>February-2017</td>\n",
       "      <td>7955</td>\n",
       "      <td>876363</td>\n",
       "      <td>February</td>\n",
       "      <td>2017</td>\n",
       "    </tr>\n",
       "    <tr>\n",
       "      <th>2</th>\n",
       "      <td>March-2017</td>\n",
       "      <td>11959</td>\n",
       "      <td>915353</td>\n",
       "      <td>March</td>\n",
       "      <td>2017</td>\n",
       "    </tr>\n",
       "    <tr>\n",
       "      <th>3</th>\n",
       "      <td>April-2017</td>\n",
       "      <td>11470</td>\n",
       "      <td>918138</td>\n",
       "      <td>April</td>\n",
       "      <td>2017</td>\n",
       "    </tr>\n",
       "    <tr>\n",
       "      <th>4</th>\n",
       "      <td>May-2017</td>\n",
       "      <td>10068</td>\n",
       "      <td>862109</td>\n",
       "      <td>May</td>\n",
       "      <td>2017</td>\n",
       "    </tr>\n",
       "  </tbody>\n",
       "</table>\n",
       "</div>"
      ],
      "text/plain": [
       "       MonthYear  Sales  AveragePrice     Month  Year\n",
       "0   January-2017   5155        768351   January  2017\n",
       "1  February-2017   7955        876363  February  2017\n",
       "2     March-2017  11959        915353     March  2017\n",
       "3     April-2017  11470        918138     April  2017\n",
       "4       May-2017  10068        862109       May  2017"
      ]
     },
     "execution_count": 65,
     "metadata": {},
     "output_type": "execute_result"
    }
   ],
   "source": [
    "treb = pd.read_excel(r'TREB_Data.xlsx')\n",
    "treb[['Month','Year']] = treb['MonthYear'].str.split('-',expand=True)\n",
    "treb.head()"
   ]
  },
  {
   "cell_type": "code",
   "execution_count": 66,
   "id": "98ccd29e",
   "metadata": {},
   "outputs": [
    {
     "data": {
      "text/html": [
       "<div>\n",
       "<style scoped>\n",
       "    .dataframe tbody tr th:only-of-type {\n",
       "        vertical-align: middle;\n",
       "    }\n",
       "\n",
       "    .dataframe tbody tr th {\n",
       "        vertical-align: top;\n",
       "    }\n",
       "\n",
       "    .dataframe thead th {\n",
       "        text-align: right;\n",
       "    }\n",
       "</style>\n",
       "<table border=\"1\" class=\"dataframe\">\n",
       "  <thead>\n",
       "    <tr style=\"text-align: right;\">\n",
       "      <th>Year</th>\n",
       "      <th>2013</th>\n",
       "      <th>2014</th>\n",
       "      <th>2015</th>\n",
       "      <th>2016</th>\n",
       "      <th>2017</th>\n",
       "    </tr>\n",
       "    <tr>\n",
       "      <th>Month</th>\n",
       "      <th></th>\n",
       "      <th></th>\n",
       "      <th></th>\n",
       "      <th></th>\n",
       "      <th></th>\n",
       "    </tr>\n",
       "  </thead>\n",
       "  <tbody>\n",
       "    <tr>\n",
       "      <th>January</th>\n",
       "      <td>4230</td>\n",
       "      <td>4103</td>\n",
       "      <td>4318</td>\n",
       "      <td>4640</td>\n",
       "      <td>5155</td>\n",
       "    </tr>\n",
       "    <tr>\n",
       "      <th>February</th>\n",
       "      <td>5615</td>\n",
       "      <td>5696</td>\n",
       "      <td>6294</td>\n",
       "      <td>7582</td>\n",
       "      <td>7955</td>\n",
       "    </tr>\n",
       "    <tr>\n",
       "      <th>March</th>\n",
       "      <td>7536</td>\n",
       "      <td>8052</td>\n",
       "      <td>8886</td>\n",
       "      <td>10260</td>\n",
       "      <td>11959</td>\n",
       "    </tr>\n",
       "    <tr>\n",
       "      <th>April</th>\n",
       "      <td>9537</td>\n",
       "      <td>9660</td>\n",
       "      <td>11254</td>\n",
       "      <td>12016</td>\n",
       "      <td>11470</td>\n",
       "    </tr>\n",
       "    <tr>\n",
       "      <th>May</th>\n",
       "      <td>9945</td>\n",
       "      <td>11013</td>\n",
       "      <td>11640</td>\n",
       "      <td>12789</td>\n",
       "      <td>10068</td>\n",
       "    </tr>\n",
       "    <tr>\n",
       "      <th>June</th>\n",
       "      <td>8821</td>\n",
       "      <td>10132</td>\n",
       "      <td>11905</td>\n",
       "      <td>12725</td>\n",
       "      <td>7896</td>\n",
       "    </tr>\n",
       "    <tr>\n",
       "      <th>July</th>\n",
       "      <td>8367</td>\n",
       "      <td>9152</td>\n",
       "      <td>9813</td>\n",
       "      <td>9929</td>\n",
       "      <td>5871</td>\n",
       "    </tr>\n",
       "    <tr>\n",
       "      <th>August</th>\n",
       "      <td>7390</td>\n",
       "      <td>7568</td>\n",
       "      <td>7943</td>\n",
       "      <td>9748</td>\n",
       "      <td>6310</td>\n",
       "    </tr>\n",
       "    <tr>\n",
       "      <th>September</th>\n",
       "      <td>7256</td>\n",
       "      <td>8001</td>\n",
       "      <td>8147</td>\n",
       "      <td>9828</td>\n",
       "      <td>6340</td>\n",
       "    </tr>\n",
       "    <tr>\n",
       "      <th>October</th>\n",
       "      <td>7940</td>\n",
       "      <td>8512</td>\n",
       "      <td>8759</td>\n",
       "      <td>9715</td>\n",
       "      <td>7087</td>\n",
       "    </tr>\n",
       "    <tr>\n",
       "      <th>November</th>\n",
       "      <td>6354</td>\n",
       "      <td>6475</td>\n",
       "      <td>7337</td>\n",
       "      <td>8503</td>\n",
       "      <td>7353</td>\n",
       "    </tr>\n",
       "    <tr>\n",
       "      <th>December</th>\n",
       "      <td>4058</td>\n",
       "      <td>4418</td>\n",
       "      <td>4917</td>\n",
       "      <td>5305</td>\n",
       "      <td>4930</td>\n",
       "    </tr>\n",
       "  </tbody>\n",
       "</table>\n",
       "</div>"
      ],
      "text/plain": [
       "Year       2013   2014   2015   2016   2017\n",
       "Month                                      \n",
       "January    4230   4103   4318   4640   5155\n",
       "February   5615   5696   6294   7582   7955\n",
       "March      7536   8052   8886  10260  11959\n",
       "April      9537   9660  11254  12016  11470\n",
       "May        9945  11013  11640  12789  10068\n",
       "June       8821  10132  11905  12725   7896\n",
       "July       8367   9152   9813   9929   5871\n",
       "August     7390   7568   7943   9748   6310\n",
       "September  7256   8001   8147   9828   6340\n",
       "October    7940   8512   8759   9715   7087\n",
       "November   6354   6475   7337   8503   7353\n",
       "December   4058   4418   4917   5305   4930"
      ]
     },
     "execution_count": 66,
     "metadata": {},
     "output_type": "execute_result"
    }
   ],
   "source": [
    "TREB = treb.pivot_table(values ='Sales', columns ='Year', index ='Month')\n",
    "\n",
    "# Rearrange the index number for the new-generated pivot table\n",
    "index_order = ['January', 'February', 'March', 'April', 'May', 'June', 'July', 'August', 'September',\n",
    "         'October', 'November', 'December']\n",
    "TREB = TREB.reindex(index_order, axis = 0)\n",
    "TREB"
   ]
  },
  {
   "cell_type": "markdown",
   "id": "74cfbde6",
   "metadata": {},
   "source": [
    "2. In one figure, plot 5 lines (one line per year) with the monthly sales versus the month of the year."
   ]
  },
  {
   "cell_type": "code",
   "execution_count": 67,
   "id": "7d576b94",
   "metadata": {},
   "outputs": [
    {
     "data": {
      "image/png": "[encoded data removed]",
      "text/plain": [
       "<Figure size 432x288 with 1 Axes>"
      ]
     },
     "metadata": {
      "needs_background": "light"
     },
     "output_type": "display_data"
    }
   ],
   "source": [
    "TREB.plot(title = 'Month v.s. Monthly Sales')\n",
    "plt.ylabel('Sales')\n",
    "plt.show()"
   ]
  },
  {
   "cell_type": "markdown",
   "id": "dd581110",
   "metadata": {},
   "source": [
    "3. Calculate the total Sales per year and create a bar chart. Do this in two different ways: a) group by year the table pre-pivoting, b) summing up the five columns post-pivoting"
   ]
  },
  {
   "cell_type": "code",
   "execution_count": 68,
   "id": "9c72f2dc",
   "metadata": {},
   "outputs": [
    {
     "data": {
      "image/png": "[encoded data removed]",
      "text/plain": [
       "<Figure size 432x288 with 1 Axes>"
      ]
     },
     "metadata": {
      "needs_background": "light"
     },
     "output_type": "display_data"
    },
    {
     "name": "stdout",
     "output_type": "stream",
     "text": [
      "Year\n",
      "2013     87049\n",
      "2014     92782\n",
      "2015    101213\n",
      "2016    113040\n",
      "2017     92394\n",
      "Name: Sales, dtype: int64\n"
     ]
    }
   ],
   "source": [
    "# Method A - group by year the table pre-pivoting\n",
    "treb.groupby(['Year']).Sales.sum().plot(kind = 'bar', title = 'Total Sales Per Year')\n",
    "plt.ylabel('Sales')\n",
    "plt.show()\n",
    "\n",
    "print(treb.groupby(['Year']).Sales.sum())"
   ]
  },
  {
   "cell_type": "code",
   "execution_count": 69,
   "id": "b1becadb",
   "metadata": {},
   "outputs": [
    {
     "data": {
      "image/png": "[encoded data removed]",
      "text/plain": [
       "<Figure size 432x288 with 1 Axes>"
      ]
     },
     "metadata": {
      "needs_background": "light"
     },
     "output_type": "display_data"
    },
    {
     "name": "stdout",
     "output_type": "stream",
     "text": [
      "Year\n",
      "2013     87049\n",
      "2014     92782\n",
      "2015    101213\n",
      "2016    113040\n",
      "2017     92394\n",
      "dtype: int64\n"
     ]
    }
   ],
   "source": [
    "# Method B - summing up the five columns post-pivoting\n",
    "TREB.sum().plot.bar(title = 'Total Sales Per Year')\n",
    "plt.ylabel('Sales')\n",
    "plt.show()\n",
    "\n",
    "print (TREB.sum())"
   ]
  }
 ],
 "metadata": {
  "kernelspec": {
   "display_name": "Python 3 (ipykernel)",
   "language": "python",
   "name": "python3"
  },
  "language_info": {
   "codemirror_mode": {
    "name": "ipython",
    "version": 3
   },
   "file_extension": ".py",
   "mimetype": "text/x-python",
   "name": "python",
   "nbconvert_exporter": "python",
   "pygments_lexer": "ipython3",
   "version": "3.9.12"
  }
 },
 "nbformat": 4,
 "nbformat_minor": 5
}
